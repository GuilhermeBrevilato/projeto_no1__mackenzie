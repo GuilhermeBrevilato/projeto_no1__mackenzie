{
 "cells": [
  {
   "cell_type": "code",
   "execution_count": 192,
   "metadata": {},
   "outputs": [],
   "source": [
    "import pandas as pd\n",
    "import os"
   ]
  },
  {
   "cell_type": "markdown",
   "metadata": {},
   "source": [
    "# Remoção dos Clientes Recorrentes dentre os Prospectos"
   ]
  },
  {
   "cell_type": "code",
   "execution_count": 193,
   "metadata": {},
   "outputs": [],
   "source": [
    "# Caminho relativo para o arquivo dados.csv\n",
    "open_path1 = os.path.join('..', 'dataset', 'filtrados_rev.csv')\n",
    "\n",
    "# Ler o arquivo\n",
    "df_cnpj = pd.read_csv(open_path1,\n",
    "                 sep=';',\n",
    "                 encoding='latin1',\n",
    "                 on_bad_lines='skip',\n",
    "                 engine='python'\n",
    "                 )"
   ]
  },
  {
   "cell_type": "code",
   "execution_count": 194,
   "metadata": {},
   "outputs": [
    {
     "data": {
      "text/plain": [
       "(1683343, 15)"
      ]
     },
     "execution_count": 194,
     "metadata": {},
     "output_type": "execute_result"
    }
   ],
   "source": [
    "df_cnpj.shape"
   ]
  },
  {
   "cell_type": "code",
   "execution_count": 195,
   "metadata": {},
   "outputs": [
    {
     "data": {
      "text/html": [
       "<div>\n",
       "<style scoped>\n",
       "    .dataframe tbody tr th:only-of-type {\n",
       "        vertical-align: middle;\n",
       "    }\n",
       "\n",
       "    .dataframe tbody tr th {\n",
       "        vertical-align: top;\n",
       "    }\n",
       "\n",
       "    .dataframe thead th {\n",
       "        text-align: right;\n",
       "    }\n",
       "</style>\n",
       "<table border=\"1\" class=\"dataframe\">\n",
       "  <thead>\n",
       "    <tr style=\"text-align: right;\">\n",
       "      <th></th>\n",
       "      <th>cnpj_basico</th>\n",
       "      <th>cnpj_ordem</th>\n",
       "      <th>cnpj_dv</th>\n",
       "      <th>identificador_matriz_filial</th>\n",
       "      <th>data_situacao_cadastral</th>\n",
       "      <th>data_de_inicio_atividade</th>\n",
       "      <th>cnae_fiscal_principal</th>\n",
       "      <th>cnae_fiscal_secundaria</th>\n",
       "      <th>bairro</th>\n",
       "      <th>cep</th>\n",
       "      <th>uf</th>\n",
       "      <th>municipio</th>\n",
       "      <th>razao_social</th>\n",
       "      <th>capital_social</th>\n",
       "      <th>porte_empresa</th>\n",
       "    </tr>\n",
       "  </thead>\n",
       "  <tbody>\n",
       "    <tr>\n",
       "      <th>0</th>\n",
       "      <td>7756651</td>\n",
       "      <td>33</td>\n",
       "      <td>32</td>\n",
       "      <td>2</td>\n",
       "      <td>2022-01-12</td>\n",
       "      <td>2022-01-12</td>\n",
       "      <td>6190601</td>\n",
       "      <td>6110803,6319400</td>\n",
       "      <td>CENTRO</td>\n",
       "      <td>79002190.0</td>\n",
       "      <td>MS</td>\n",
       "      <td>9051</td>\n",
       "      <td>BRASIL TECPAR SERVICOS DE TELECOMUNICACOES S.A</td>\n",
       "      <td>655801154</td>\n",
       "      <td>5.0</td>\n",
       "    </tr>\n",
       "    <tr>\n",
       "      <th>1</th>\n",
       "      <td>7756651</td>\n",
       "      <td>42</td>\n",
       "      <td>23</td>\n",
       "      <td>2</td>\n",
       "      <td>2022-02-16</td>\n",
       "      <td>2022-02-16</td>\n",
       "      <td>6190601</td>\n",
       "      <td>4751201,6204000</td>\n",
       "      <td>SETOR COMERCIAL</td>\n",
       "      <td>78550258.0</td>\n",
       "      <td>MT</td>\n",
       "      <td>8985</td>\n",
       "      <td>BRASIL TECPAR SERVICOS DE TELECOMUNICACOES S.A</td>\n",
       "      <td>655801154</td>\n",
       "      <td>5.0</td>\n",
       "    </tr>\n",
       "    <tr>\n",
       "      <th>2</th>\n",
       "      <td>4679549</td>\n",
       "      <td>1</td>\n",
       "      <td>5</td>\n",
       "      <td>1</td>\n",
       "      <td>2004-04-09</td>\n",
       "      <td>2001-09-24</td>\n",
       "      <td>8211300</td>\n",
       "      <td>NaN</td>\n",
       "      <td>TANGUA</td>\n",
       "      <td>83508270.0</td>\n",
       "      <td>PR</td>\n",
       "      <td>7407</td>\n",
       "      <td>MERANO GASTRONOMIA BORGUEZAM LTDA</td>\n",
       "      <td>40000</td>\n",
       "      <td>1.0</td>\n",
       "    </tr>\n",
       "    <tr>\n",
       "      <th>3</th>\n",
       "      <td>4718504</td>\n",
       "      <td>1</td>\n",
       "      <td>0</td>\n",
       "      <td>1</td>\n",
       "      <td>2005-11-03</td>\n",
       "      <td>2001-10-09</td>\n",
       "      <td>7711000</td>\n",
       "      <td>7719599,0230600,7490104</td>\n",
       "      <td>PARQUE CAMPOLIM</td>\n",
       "      <td>18048100.0</td>\n",
       "      <td>SP</td>\n",
       "      <td>7145</td>\n",
       "      <td>RBM RAMIRES LOCADORA LTDA</td>\n",
       "      <td>50000</td>\n",
       "      <td>5.0</td>\n",
       "    </tr>\n",
       "  </tbody>\n",
       "</table>\n",
       "</div>"
      ],
      "text/plain": [
       "   cnpj_basico  cnpj_ordem  cnpj_dv  identificador_matriz_filial  \\\n",
       "0      7756651          33       32                            2   \n",
       "1      7756651          42       23                            2   \n",
       "2      4679549           1        5                            1   \n",
       "3      4718504           1        0                            1   \n",
       "\n",
       "  data_situacao_cadastral data_de_inicio_atividade  cnae_fiscal_principal  \\\n",
       "0              2022-01-12               2022-01-12                6190601   \n",
       "1              2022-02-16               2022-02-16                6190601   \n",
       "2              2004-04-09               2001-09-24                8211300   \n",
       "3              2005-11-03               2001-10-09                7711000   \n",
       "\n",
       "    cnae_fiscal_secundaria           bairro         cep  uf  municipio  \\\n",
       "0          6110803,6319400           CENTRO  79002190.0  MS       9051   \n",
       "1          4751201,6204000  SETOR COMERCIAL  78550258.0  MT       8985   \n",
       "2                      NaN           TANGUA  83508270.0  PR       7407   \n",
       "3  7719599,0230600,7490104  PARQUE CAMPOLIM  18048100.0  SP       7145   \n",
       "\n",
       "                                     razao_social  capital_social  \\\n",
       "0  BRASIL TECPAR SERVICOS DE TELECOMUNICACOES S.A       655801154   \n",
       "1  BRASIL TECPAR SERVICOS DE TELECOMUNICACOES S.A       655801154   \n",
       "2               MERANO GASTRONOMIA BORGUEZAM LTDA           40000   \n",
       "3                       RBM RAMIRES LOCADORA LTDA           50000   \n",
       "\n",
       "   porte_empresa  \n",
       "0            5.0  \n",
       "1            5.0  \n",
       "2            1.0  \n",
       "3            5.0  "
      ]
     },
     "execution_count": 195,
     "metadata": {},
     "output_type": "execute_result"
    }
   ],
   "source": [
    "df_cnpj.head(4)"
   ]
  },
  {
   "cell_type": "code",
   "execution_count": 198,
   "metadata": {},
   "outputs": [
    {
     "name": "stdout",
     "output_type": "stream",
     "text": [
      "<class 'pandas.core.frame.DataFrame'>\n",
      "RangeIndex: 1683343 entries, 0 to 1683342\n",
      "Data columns (total 15 columns):\n",
      " #   Column                       Non-Null Count    Dtype  \n",
      "---  ------                       --------------    -----  \n",
      " 0   cnpj_basico                  1683343 non-null  int64  \n",
      " 1   cnpj_ordem                   1683343 non-null  int64  \n",
      " 2   cnpj_dv                      1683343 non-null  int64  \n",
      " 3   identificador_matriz_filial  1683343 non-null  int64  \n",
      " 4   data_situacao_cadastral      1683343 non-null  object \n",
      " 5   data_de_inicio_atividade     1683343 non-null  object \n",
      " 6   cnae_fiscal_principal        1683343 non-null  int64  \n",
      " 7   cnae_fiscal_secundaria       1077147 non-null  object \n",
      " 8   bairro                       1682934 non-null  object \n",
      " 9   cep                          1682291 non-null  float64\n",
      " 10  uf                           1683343 non-null  object \n",
      " 11  municipio                    1683343 non-null  int64  \n",
      " 12  razao_social                 1683343 non-null  object \n",
      " 13  capital_social               1683343 non-null  int64  \n",
      " 14  porte_empresa                1682699 non-null  float64\n",
      "dtypes: float64(2), int64(7), object(6)\n",
      "memory usage: 192.6+ MB\n"
     ]
    }
   ],
   "source": [
    "df_cnpj.info()"
   ]
  },
  {
   "cell_type": "code",
   "execution_count": 199,
   "metadata": {},
   "outputs": [],
   "source": [
    "open_path2 = os.path.join('..', 'dataset', 'Clientes_categorizados.xlsx')\n",
    "\n",
    "df_clientes = pd.read_excel(open_path2)"
   ]
  },
  {
   "cell_type": "code",
   "execution_count": 200,
   "metadata": {},
   "outputs": [
    {
     "name": "stdout",
     "output_type": "stream",
     "text": [
      "<class 'pandas.core.frame.DataFrame'>\n",
      "RangeIndex: 37 entries, 0 to 36\n",
      "Data columns (total 52 columns):\n",
      " #   Column                                Non-Null Count  Dtype  \n",
      "---  ------                                --------------  -----  \n",
      " 0   Cliente                               37 non-null     object \n",
      " 1   Cliente anonimizado                   37 non-null     object \n",
      " 2   Tipo de venda                         34 non-null     object \n",
      " 3   Região                                37 non-null     object \n",
      " 4   Atividade Principal                   33 non-null     object \n",
      " 5   CNPJ                                  37 non-null     object \n",
      " 6   Porte                                 37 non-null     object \n",
      " 7   Capital Social                        37 non-null     float64\n",
      " 8   Código e Descrição Natureza Juridica  37 non-null     object \n",
      " 9   CNAE Principal                        37 non-null     object \n",
      " 10  CNAE Secundário                       33 non-null     object \n",
      " 11  Unnamed: 11                           28 non-null     object \n",
      " 12  Unnamed: 12                           23 non-null     object \n",
      " 13  Unnamed: 13                           21 non-null     object \n",
      " 14  Unnamed: 14                           17 non-null     object \n",
      " 15  Unnamed: 15                           14 non-null     object \n",
      " 16  Unnamed: 16                           11 non-null     object \n",
      " 17  Unnamed: 17                           9 non-null      object \n",
      " 18  Unnamed: 18                           8 non-null      object \n",
      " 19  Unnamed: 19                           6 non-null      object \n",
      " 20  Unnamed: 20                           5 non-null      object \n",
      " 21  Unnamed: 21                           5 non-null      object \n",
      " 22  Unnamed: 22                           5 non-null      object \n",
      " 23  Unnamed: 23                           3 non-null      object \n",
      " 24  Unnamed: 24                           3 non-null      object \n",
      " 25  Unnamed: 25                           3 non-null      object \n",
      " 26  Unnamed: 26                           1 non-null      object \n",
      " 27  Unnamed: 27                           1 non-null      object \n",
      " 28  Unnamed: 28                           1 non-null      object \n",
      " 29  Unnamed: 29                           1 non-null      object \n",
      " 30  Unnamed: 30                           1 non-null      object \n",
      " 31  Unnamed: 31                           1 non-null      object \n",
      " 32  Unnamed: 32                           1 non-null      object \n",
      " 33  Unnamed: 33                           1 non-null      object \n",
      " 34  Unnamed: 34                           1 non-null      object \n",
      " 35  Unnamed: 35                           1 non-null      object \n",
      " 36  Unnamed: 36                           1 non-null      object \n",
      " 37  Unnamed: 37                           1 non-null      object \n",
      " 38  Unnamed: 38                           1 non-null      object \n",
      " 39  Unnamed: 39                           1 non-null      object \n",
      " 40  Unnamed: 40                           1 non-null      object \n",
      " 41  Unnamed: 41                           1 non-null      object \n",
      " 42  Unnamed: 42                           1 non-null      object \n",
      " 43  Unnamed: 43                           1 non-null      object \n",
      " 44  Unnamed: 44                           1 non-null      object \n",
      " 45  Unnamed: 45                           1 non-null      object \n",
      " 46  Unnamed: 46                           1 non-null      object \n",
      " 47  Unnamed: 47                           1 non-null      object \n",
      " 48  Unnamed: 48                           1 non-null      object \n",
      " 49  Unnamed: 49                           1 non-null      object \n",
      " 50  Unnamed: 50                           1 non-null      object \n",
      " 51  Unnamed: 51                           1 non-null      object \n",
      "dtypes: float64(1), object(51)\n",
      "memory usage: 15.2+ KB\n"
     ]
    }
   ],
   "source": [
    "df_clientes.info()"
   ]
  },
  {
   "cell_type": "code",
   "execution_count": 202,
   "metadata": {},
   "outputs": [
    {
     "name": "stderr",
     "output_type": "stream",
     "text": [
      "C:\\Users\\fnsb\\AppData\\Local\\Temp\\ipykernel_15904\\2934031713.py:1: FutureWarning: The default value of regex will change from True to False in a future version.\n",
      "  df_clientes['CNPJ'] = df_clientes['CNPJ'].str.replace(r'\\D+', '')\n"
     ]
    }
   ],
   "source": [
    "df_clientes['CNPJ'] = df_clientes['CNPJ'].str.replace(r'\\D+', '')"
   ]
  },
  {
   "cell_type": "code",
   "execution_count": 204,
   "metadata": {},
   "outputs": [],
   "source": [
    "df_clientes['CNPJ'] = df_clientes['CNPJ'].apply(lambda row: row[:8])"
   ]
  },
  {
   "cell_type": "code",
   "execution_count": 205,
   "metadata": {},
   "outputs": [],
   "source": [
    "df_clientes['CNPJ'] = df_clientes['CNPJ'].astype(int)"
   ]
  },
  {
   "cell_type": "code",
   "execution_count": 207,
   "metadata": {},
   "outputs": [
    {
     "name": "stdout",
     "output_type": "stream",
     "text": [
      "<class 'pandas.core.frame.DataFrame'>\n",
      "RangeIndex: 37 entries, 0 to 36\n",
      "Data columns (total 52 columns):\n",
      " #   Column                                Non-Null Count  Dtype  \n",
      "---  ------                                --------------  -----  \n",
      " 0   Cliente                               37 non-null     object \n",
      " 1   Cliente anonimizado                   37 non-null     object \n",
      " 2   Tipo de venda                         34 non-null     object \n",
      " 3   Região                                37 non-null     object \n",
      " 4   Atividade Principal                   33 non-null     object \n",
      " 5   CNPJ                                  37 non-null     int32  \n",
      " 6   Porte                                 37 non-null     object \n",
      " 7   Capital Social                        37 non-null     float64\n",
      " 8   Código e Descrição Natureza Juridica  37 non-null     object \n",
      " 9   CNAE Principal                        37 non-null     object \n",
      " 10  CNAE Secundário                       33 non-null     object \n",
      " 11  Unnamed: 11                           28 non-null     object \n",
      " 12  Unnamed: 12                           23 non-null     object \n",
      " 13  Unnamed: 13                           21 non-null     object \n",
      " 14  Unnamed: 14                           17 non-null     object \n",
      " 15  Unnamed: 15                           14 non-null     object \n",
      " 16  Unnamed: 16                           11 non-null     object \n",
      " 17  Unnamed: 17                           9 non-null      object \n",
      " 18  Unnamed: 18                           8 non-null      object \n",
      " 19  Unnamed: 19                           6 non-null      object \n",
      " 20  Unnamed: 20                           5 non-null      object \n",
      " 21  Unnamed: 21                           5 non-null      object \n",
      " 22  Unnamed: 22                           5 non-null      object \n",
      " 23  Unnamed: 23                           3 non-null      object \n",
      " 24  Unnamed: 24                           3 non-null      object \n",
      " 25  Unnamed: 25                           3 non-null      object \n",
      " 26  Unnamed: 26                           1 non-null      object \n",
      " 27  Unnamed: 27                           1 non-null      object \n",
      " 28  Unnamed: 28                           1 non-null      object \n",
      " 29  Unnamed: 29                           1 non-null      object \n",
      " 30  Unnamed: 30                           1 non-null      object \n",
      " 31  Unnamed: 31                           1 non-null      object \n",
      " 32  Unnamed: 32                           1 non-null      object \n",
      " 33  Unnamed: 33                           1 non-null      object \n",
      " 34  Unnamed: 34                           1 non-null      object \n",
      " 35  Unnamed: 35                           1 non-null      object \n",
      " 36  Unnamed: 36                           1 non-null      object \n",
      " 37  Unnamed: 37                           1 non-null      object \n",
      " 38  Unnamed: 38                           1 non-null      object \n",
      " 39  Unnamed: 39                           1 non-null      object \n",
      " 40  Unnamed: 40                           1 non-null      object \n",
      " 41  Unnamed: 41                           1 non-null      object \n",
      " 42  Unnamed: 42                           1 non-null      object \n",
      " 43  Unnamed: 43                           1 non-null      object \n",
      " 44  Unnamed: 44                           1 non-null      object \n",
      " 45  Unnamed: 45                           1 non-null      object \n",
      " 46  Unnamed: 46                           1 non-null      object \n",
      " 47  Unnamed: 47                           1 non-null      object \n",
      " 48  Unnamed: 48                           1 non-null      object \n",
      " 49  Unnamed: 49                           1 non-null      object \n",
      " 50  Unnamed: 50                           1 non-null      object \n",
      " 51  Unnamed: 51                           1 non-null      object \n",
      "dtypes: float64(1), int32(1), object(50)\n",
      "memory usage: 15.0+ KB\n"
     ]
    }
   ],
   "source": [
    "df_clientes.info()"
   ]
  },
  {
   "cell_type": "code",
   "execution_count": 208,
   "metadata": {},
   "outputs": [],
   "source": [
    "df_prospectos = df_cnpj[~df_cnpj[\"cnpj_basico\"].isin(df_clientes['CNPJ'])]"
   ]
  },
  {
   "cell_type": "code",
   "execution_count": 209,
   "metadata": {},
   "outputs": [],
   "source": [
    "df_repetidos = df_cnpj[df_cnpj[\"cnpj_basico\"].isin(df_clientes['CNPJ'])]"
   ]
  },
  {
   "cell_type": "code",
   "execution_count": 210,
   "metadata": {},
   "outputs": [
    {
     "data": {
      "text/plain": [
       "390"
      ]
     },
     "execution_count": 210,
     "metadata": {},
     "output_type": "execute_result"
    }
   ],
   "source": [
    "len(df_repetidos) - len(df_clientes)"
   ]
  },
  {
   "cell_type": "markdown",
   "metadata": {},
   "source": [
    "Foram removidos 360 CNPJ repetidos."
   ]
  },
  {
   "cell_type": "code",
   "execution_count": 211,
   "metadata": {},
   "outputs": [
    {
     "data": {
      "text/plain": [
       "True"
      ]
     },
     "execution_count": 211,
     "metadata": {},
     "output_type": "execute_result"
    }
   ],
   "source": [
    "len(df_repetidos) + len(df_prospectos) == len(df_cnpj)"
   ]
  },
  {
   "cell_type": "code",
   "execution_count": 212,
   "metadata": {},
   "outputs": [
    {
     "data": {
      "text/plain": [
       "(1682916, 15)"
      ]
     },
     "execution_count": 212,
     "metadata": {},
     "output_type": "execute_result"
    }
   ],
   "source": [
    "df_prospectos.shape"
   ]
  },
  {
   "cell_type": "code",
   "execution_count": 213,
   "metadata": {},
   "outputs": [
    {
     "data": {
      "text/plain": [
       "390"
      ]
     },
     "execution_count": 213,
     "metadata": {},
     "output_type": "execute_result"
    }
   ],
   "source": [
    "df_cnpj.shape[0] - df_prospectos.shape[0] - df_clientes.shape[0]"
   ]
  },
  {
   "cell_type": "markdown",
   "metadata": {},
   "source": [
    "O resultado acima mostra que há CNPJ repetidos, porque o número o número de linhas removidas foi maior que o número de clientes."
   ]
  },
  {
   "cell_type": "markdown",
   "metadata": {},
   "source": [
    "# Armazenamento"
   ]
  },
  {
   "cell_type": "code",
   "execution_count": 215,
   "metadata": {},
   "outputs": [],
   "source": [
    "save_path = os.path.join('..', 'dataset', 'ativos_filtrados_por_cnae.parquet')\n",
    "\n",
    "df_prospectos.to_parquet(save_path)"
   ]
  }
 ],
 "metadata": {
  "kernelspec": {
   "display_name": "base",
   "language": "python",
   "name": "python3"
  },
  "language_info": {
   "codemirror_mode": {
    "name": "ipython",
    "version": 3
   },
   "file_extension": ".py",
   "mimetype": "text/x-python",
   "name": "python",
   "nbconvert_exporter": "python",
   "pygments_lexer": "ipython3",
   "version": "3.10.9"
  }
 },
 "nbformat": 4,
 "nbformat_minor": 2
}
