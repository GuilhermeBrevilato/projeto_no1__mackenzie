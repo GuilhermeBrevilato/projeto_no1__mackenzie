{
 "cells": [
  {
   "cell_type": "code",
   "execution_count": 151,
   "metadata": {},
   "outputs": [],
   "source": [
    "import pandas as pd\n",
    "import os"
   ]
  },
  {
   "cell_type": "code",
   "execution_count": 152,
   "metadata": {},
   "outputs": [],
   "source": [
    "# Dados da Receita Federal\n",
    "\n",
    "open_path = os.path.join('..', 'dataset', 'ativos_filtrados_por_cnae.parquet')\n",
    "\n",
    "df_cnpj = pd.read_parquet(open_path,\n",
    "                 #sep=';',\n",
    "                 #encoding='latin1',\n",
    "                 #on_bad_lines='skip',\n",
    "                 engine='pyarrow'\n",
    "                 )"
   ]
  },
  {
   "cell_type": "code",
   "execution_count": 153,
   "metadata": {},
   "outputs": [],
   "source": [
    "# Dados dos clientes\n",
    "\n",
    "open_path = os.path.join('..', 'dataset', 'Clientes_categorizados_anonimizado.xlsx')\n",
    "\n",
    "df_clientes = pd.read_excel(open_path)"
   ]
  },
  {
   "cell_type": "markdown",
   "metadata": {},
   "source": [
    "# Mapeamento das variáveis categóricas"
   ]
  },
  {
   "cell_type": "markdown",
   "metadata": {},
   "source": [
    "As seguintes colunas aparecem com valores numéricos.  \n",
    "Mas, para melhor apresentar os dados, é preciso mapear os valores segundo o documento de metadados do [gov.br](https://www.gov.br/receitafederal/dados/cnpj-metadados.pdf)."
   ]
  },
  {
   "cell_type": "markdown",
   "metadata": {},
   "source": [
    "* PORTE DA EMPRESA\n",
    "  * 00 – NÃO INFORMADO\n",
    "  * 01 - MICRO EMPRESA\n",
    "  * 03 - EMPRESA DE PEQUENO PORTE\n",
    "  * 05 - DEMAIS\n",
    "  \n",
    "* IDENTIFICADOR MATRIZ/FILIAL\n",
    "  * 1 – MATRIZ\n",
    "  * 2 – FILIAL\n",
    "  \n",
    "* SITUAÇÃO CADASTRAL\n",
    "  * 01 – NULA\n",
    "  * 2 – ATIVA\n",
    "  * 3 – SUSPENSA\n",
    "  * 4 – INAPTA\n",
    "  * 08 – BAIXADA\n",
    "\n",
    "* OPÇÃO PELO SIMPLES\n",
    "  * S - SIM\n",
    "  * N - NÃO\n",
    "  * `null` – OUTROS\n",
    "\n",
    "* OPÇÃO PELO MEI\n",
    "  * S - SIM\n",
    "  * N - NÃO\n",
    "  * `null` – OUTROS"
   ]
  },
  {
   "cell_type": "markdown",
   "metadata": {},
   "source": [
    "Os códigos de CNAE existentes entre os clientes atuais da Telit Citerion serviram de filtro na base de dados da Receita Federal.  \n",
    "Os CNAE abaixo existem em ambos os datasets: de clientes e de prospectos."
   ]
  },
  {
   "cell_type": "markdown",
   "metadata": {},
   "source": [
    "4321500: 'Instalação e manutenção elétrica',\n",
    "6461100: 'Holdings financeiras',\n",
    "4520003: 'Elétrica de veículos automotores',\n",
    "9499500: 'Outras atividades associativas',\n",
    "7711000: 'Locação de automóveis sem condutor',\n",
    "6190699: 'Outras atividades de telecomunicações',\n",
    "4752100: 'Varejista de telefonia e comunicação',\n",
    "6202300: 'Programas de computador customizáveis',\n",
    "6512000: 'Seguros de ramos elementares',\n",
    "5229099: 'Auxiliares dos transportes terrestres',\n",
    "7739099: 'Aluguel de máquinas e equipamentos sem operador',\n",
    "9511800: 'Manutenção de computadores e afins',\n",
    "6120599: 'Telecomunicações sem fio',\n",
    "4530703: 'Varejo de peças novas para veículos',\n",
    "6190601: 'Provedores de redes',\n",
    "4520007: 'Borracharia',\n",
    "6209100: 'Serviços em tecnologia da informação',\n",
    "5229002: 'Serviços de reboque de veículos',\n",
    "8211300: 'Escritório e apoio administrativo',\n",
    "8020001: 'Monitoramento de segurança eletrônico'"
   ]
  },
  {
   "cell_type": "markdown",
   "metadata": {},
   "source": [
    "|CNAE | Resumo | Descrição|\n",
    "|--------|----------------------------------|---------------------------------------------------------------------|\n",
    "|4321500 | Instalação e manutenção elétrica | Instalação e manutenção elétrica​|\n",
    "|6461100 | Holdings financeiras | Holdings de instituições financeiras​|\n",
    "|4520003 | Elétrica de veículos automotores | Serviços de manutenção e reparação elétrica de veículos automotores​|\n",
    "|9499500 | Outras atividades associativas | Atividades associativas não especificadas anteriormente​|\n",
    "|7711000 | Locação de automóveis sem condutor | Locação de automóveis sem condutor​|\n",
    "|6190699 | Outras atividades de telecomunicações | Outras atividades de telecomunicações não especificadas anteriormente​|\n",
    "|4752100 | Varejista de telefonia e comunicação | Comércio varejista especializado de equipamentos de telefonia e comunicação​|\n",
    "|6202300 | Programas de computador customizáveis | Desenvolvimento e licenciamento de programas de computador customizáveis​|\n",
    "|6512000 | Seguros de ramos elementares | Sociedade seguradora de seguros de ramos elementares​|\n",
    "|5229099 | Auxiliares dos transportes terrestres | Outras atividades auxiliares dos transportes terrestres não especificadas anteriormente​|\n",
    "|7739099 | Aluguel de máquinas e equipamentos sem operador | Aluguel de outras máquinas e equipamentos comerciais e industriais não especificados anteriormente, sem operador​|\n",
    "|9511800 | Manutenção de computadores e afins | Reparação e manutenção de computadores e de equipamentos periféricos​|\n",
    "|6120599 | Telecomunicações sem fio | Serviços de telecomunicações sem fio não especificados anteriormente​|\n",
    "|4530703 | Varejo de peças novas para veículos | Comércio a varejo de peças e acessórios novos para veículos automotores​|\n",
    "|6190601 | Provedores de redes | Provedores de acesso às redes de comunicações​|\n",
    "|4520007 | Borracharia | Serviços de borracharia para veículos automotores|​\n",
    "|6209100 | Serviços em tecnologia da informação | Suporte técnico, manutenção e outros serviços em tecnologia da informação​|\n",
    "|5229002 | Serviços de reboque de veículos | Serviços de reboque de veículos|​\n",
    "|8211300 | Escritório e apoio administrativo | Serviços combinados de escritório e apoio administrativo​|\n",
    "|8020001 | Monitoramento de segurança eletrônico | Atividades de monitoramento de sistemas de segurança eletrônico|"
   ]
  },
  {
   "cell_type": "markdown",
   "metadata": {},
   "source": [
    "## Dados da Receita"
   ]
  },
  {
   "cell_type": "code",
   "execution_count": 154,
   "metadata": {},
   "outputs": [
    {
     "name": "stdout",
     "output_type": "stream",
     "text": [
      "<class 'pandas.core.frame.DataFrame'>\n",
      "Int64Index: 1682916 entries, 0 to 1683342\n",
      "Data columns (total 15 columns):\n",
      " #   Column                       Non-Null Count    Dtype  \n",
      "---  ------                       --------------    -----  \n",
      " 0   cnpj_basico                  1682916 non-null  int64  \n",
      " 1   cnpj_ordem                   1682916 non-null  int64  \n",
      " 2   cnpj_dv                      1682916 non-null  int64  \n",
      " 3   identificador_matriz_filial  1682916 non-null  int64  \n",
      " 4   data_situacao_cadastral      1682916 non-null  object \n",
      " 5   data_de_inicio_atividade     1682916 non-null  object \n",
      " 6   cnae_fiscal_principal        1682916 non-null  int64  \n",
      " 7   cnae_fiscal_secundaria       1076797 non-null  object \n",
      " 8   bairro                       1682507 non-null  object \n",
      " 9   cep                          1681864 non-null  float64\n",
      " 10  uf                           1682916 non-null  object \n",
      " 11  municipio                    1682916 non-null  int64  \n",
      " 12  razao_social                 1682916 non-null  object \n",
      " 13  capital_social               1682916 non-null  int64  \n",
      " 14  porte_empresa                1682272 non-null  float64\n",
      "dtypes: float64(2), int64(7), object(6)\n",
      "memory usage: 205.4+ MB\n"
     ]
    }
   ],
   "source": [
    "df_cnpj.info()"
   ]
  },
  {
   "cell_type": "code",
   "execution_count": 155,
   "metadata": {},
   "outputs": [
    {
     "name": "stdout",
     "output_type": "stream",
     "text": [
      "6512000\n",
      "6190601\n",
      "4530703\n",
      "6120599\n",
      "7711000\n",
      "8020001\n",
      "5229099\n",
      "6461100\n",
      "6202300\n",
      "4520003\n",
      "4520007\n",
      "5229002\n",
      "6209100\n",
      "7739099\n",
      "4321500\n",
      "8211300\n",
      "4752100\n",
      "6190699\n",
      "9499500\n",
      "9511800\n"
     ]
    }
   ],
   "source": [
    "for i in set(df_cnpj['cnae_fiscal_principal']):\n",
    "    print(i)"
   ]
  },
  {
   "cell_type": "code",
   "execution_count": 156,
   "metadata": {},
   "outputs": [],
   "source": [
    "df_cnpj['cnae_fiscal_principal'] = df_cnpj['cnae_fiscal_principal'].astype(object)"
   ]
  },
  {
   "cell_type": "code",
   "execution_count": 157,
   "metadata": {},
   "outputs": [],
   "source": [
    "mapping = {'porte_empresa':{0:'Não informado',\n",
    "                            1:'Micro empresa',\n",
    "                            3:'Pequeno Porte',\n",
    "                            5:'Demais'\n",
    "                            },\n",
    "            'identificador_matriz_filial':{1:'Matriz',\n",
    "                                           2:'Filial'\n",
    "                                           },\n",
    "            'situacao_cadastral':{1:'Nula',\n",
    "                                  2:'Ativa',\n",
    "                                  3:'Suspensa',\n",
    "                                  4:'Inapta',\n",
    "                                  8:'Baixada'\n",
    "                                  },\n",
    "            'cnae_fiscal_principal':{4321500: 'Instalação e manutenção elétrica',\n",
    "                                     6461100: 'Holdings de instituições financeiras',\n",
    "                                     4520003: 'Serviços de manutenção e reparação elétrica de veículos automotores',\n",
    "                                     9499500: 'Atividades associativas não especificadas anteriormente',\n",
    "                                     7711000: 'Locação de automóveis sem condutor',\n",
    "                                     6190699: 'Outras atividades de telecomunicações não especificadas anteriormente',\n",
    "                                     4752100: 'Comércio varejista especializado de equipamentos de telefonia e comunicação',\n",
    "                                     6202300: 'Desenvolvimento e licenciamento de programas de computador customizáveis',\n",
    "                                     6512000: 'Sociedade seguradora de seguros de ramos elementares',\n",
    "                                     5229099: 'Outras atividades auxiliares dos transportes terrestres não especificadas anteriormente',\n",
    "                                     7739099: 'Aluguel de outras máquinas e equipamentos comerciais e industriais não especificados anteriormente, sem operador',\n",
    "                                     9511800: 'Reparação e manutenção de computadores e de equipamentos periféricos',\n",
    "                                     6120599: 'Serviços de telecomunicações sem fio não especificados anteriormente',\n",
    "                                     4530703: 'Comércio a varejo de peças e acessórios novos para veículos automotores',\n",
    "                                     6190601: 'Provedores de acesso às redes de comunicações',\n",
    "                                     4520007: 'Serviços de borracharia para veículos automotores',\n",
    "                                     6209100: 'Suporte técnico, manutenção e outros serviços em tecnologia da informação',\n",
    "                                     5229002: 'Serviços de reboque de veículos',\n",
    "                                     8211300: 'Serviços combinados de escritório e apoio administrativo',\n",
    "                                     8020001: 'Atividades de monitoramento de sistemas de segurança eletrônico'\n",
    "                                    }\n",
    "}"
   ]
  },
  {
   "cell_type": "code",
   "execution_count": 158,
   "metadata": {},
   "outputs": [],
   "source": [
    "df_cnpj = df_cnpj.replace({'porte_empresa':{0:'Não informado',\n",
    "                                            1:'Micro empresa',\n",
    "                                            3:'Pequeno Porte',\n",
    "                                            5:'Demais'\n",
    "                                            },\n",
    "                            'identificador_matriz_filial':{1:'Matriz',\n",
    "                                                           2:'Filial'\n",
    "                                                           },\n",
    "                            'situacao_cadastral':{1:'Nula',\n",
    "                                                 2:'Ativa',\n",
    "                                                 3:'Suspensa',\n",
    "                                                 4:'Inapta',\n",
    "                                                 8:'Baixada'\n",
    "                                                 },\n",
    "                            'cnae_fiscal_principal':{4321500: 'Instalação e manutenção elétrica',\n",
    "                                                    6461100: 'Holdings financeiras',\n",
    "                                                    4520003: 'Elétrica de veículos automotores',\n",
    "                                                    9499500: 'Outras atividades associativas',\n",
    "                                                    7711000: 'Locação de automóveis sem condutor',\n",
    "                                                    6190699: 'Outras atividades de telecomunicações',\n",
    "                                                    4752100: 'Varejista de telefonia e comunicação',\n",
    "                                                    6202300: 'Programas de computador customizáveis',\n",
    "                                                    6512000: 'Seguros de ramos elementares',\n",
    "                                                    5229099: 'Auxiliares dos transportes terrestres',\n",
    "                                                    7739099: 'Aluguel de máquinas e equipamentos sem operador',\n",
    "                                                    9511800: 'Manutenção de computadores e afins',\n",
    "                                                    6120599: 'Telecomunicações sem fio',\n",
    "                                                    4530703: 'Varejo de peças novas para veículos',\n",
    "                                                    6190601: 'Provedores de redes',\n",
    "                                                    4520007: 'Borracharia',\n",
    "                                                    6209100: 'Serviços em tecnologia da informação',\n",
    "                                                    5229002: 'Serviços de reboque de veículos',\n",
    "                                                    8211300: 'Escritório e apoio administrativo',\n",
    "                                                    8020001: 'Monitoramento de segurança eletrônico'\n",
    "                                                    }\n",
    "                            }\n",
    "                           )"
   ]
  },
  {
   "cell_type": "code",
   "execution_count": 159,
   "metadata": {},
   "outputs": [
    {
     "name": "stdout",
     "output_type": "stream",
     "text": [
      "Aluguel de máquinas e equipamentos sem operador\n",
      "Outras atividades de telecomunicações\n",
      "Outras atividades associativas\n",
      "Seguros de ramos elementares\n",
      "Varejista de telefonia e comunicação\n",
      "Escritório e apoio administrativo\n",
      "Locação de automóveis sem condutor\n",
      "Instalação e manutenção elétrica\n",
      "Provedores de redes\n",
      "Elétrica de veículos automotores\n",
      "Manutenção de computadores e afins\n",
      "Serviços em tecnologia da informação\n",
      "Holdings financeiras\n",
      "Telecomunicações sem fio\n",
      "Serviços de reboque de veículos\n",
      "Monitoramento de segurança eletrônico\n",
      "Auxiliares dos transportes terrestres\n",
      "Varejo de peças novas para veículos\n",
      "Programas de computador customizáveis\n",
      "Borracharia\n"
     ]
    },
    {
     "data": {
      "text/plain": [
       "20"
      ]
     },
     "execution_count": 159,
     "metadata": {},
     "output_type": "execute_result"
    }
   ],
   "source": [
    "for i in set(df_cnpj['cnae_fiscal_principal']):\n",
    "    print(i)\n",
    "\n",
    "len(set(df_cnpj['cnae_fiscal_principal']))"
   ]
  },
  {
   "cell_type": "code",
   "execution_count": 160,
   "metadata": {},
   "outputs": [
    {
     "data": {
      "text/html": [
       "<div>\n",
       "<style scoped>\n",
       "    .dataframe tbody tr th:only-of-type {\n",
       "        vertical-align: middle;\n",
       "    }\n",
       "\n",
       "    .dataframe tbody tr th {\n",
       "        vertical-align: top;\n",
       "    }\n",
       "\n",
       "    .dataframe thead th {\n",
       "        text-align: right;\n",
       "    }\n",
       "</style>\n",
       "<table border=\"1\" class=\"dataframe\">\n",
       "  <thead>\n",
       "    <tr style=\"text-align: right;\">\n",
       "      <th></th>\n",
       "      <th>cnpj_basico</th>\n",
       "      <th>cnpj_ordem</th>\n",
       "      <th>cnpj_dv</th>\n",
       "      <th>identificador_matriz_filial</th>\n",
       "      <th>data_situacao_cadastral</th>\n",
       "      <th>data_de_inicio_atividade</th>\n",
       "      <th>cnae_fiscal_principal</th>\n",
       "      <th>cnae_fiscal_secundaria</th>\n",
       "      <th>bairro</th>\n",
       "      <th>cep</th>\n",
       "      <th>uf</th>\n",
       "      <th>municipio</th>\n",
       "      <th>razao_social</th>\n",
       "      <th>capital_social</th>\n",
       "      <th>porte_empresa</th>\n",
       "    </tr>\n",
       "  </thead>\n",
       "  <tbody>\n",
       "    <tr>\n",
       "      <th>0</th>\n",
       "      <td>7756651</td>\n",
       "      <td>33</td>\n",
       "      <td>32</td>\n",
       "      <td>Filial</td>\n",
       "      <td>2022-01-12</td>\n",
       "      <td>2022-01-12</td>\n",
       "      <td>Provedores de redes</td>\n",
       "      <td>6110803,6319400</td>\n",
       "      <td>CENTRO</td>\n",
       "      <td>79002190.0</td>\n",
       "      <td>MS</td>\n",
       "      <td>9051</td>\n",
       "      <td>BRASIL TECPAR SERVICOS DE TELECOMUNICACOES S.A</td>\n",
       "      <td>655801154</td>\n",
       "      <td>Demais</td>\n",
       "    </tr>\n",
       "    <tr>\n",
       "      <th>1</th>\n",
       "      <td>7756651</td>\n",
       "      <td>42</td>\n",
       "      <td>23</td>\n",
       "      <td>Filial</td>\n",
       "      <td>2022-02-16</td>\n",
       "      <td>2022-02-16</td>\n",
       "      <td>Provedores de redes</td>\n",
       "      <td>4751201,6204000</td>\n",
       "      <td>SETOR COMERCIAL</td>\n",
       "      <td>78550258.0</td>\n",
       "      <td>MT</td>\n",
       "      <td>8985</td>\n",
       "      <td>BRASIL TECPAR SERVICOS DE TELECOMUNICACOES S.A</td>\n",
       "      <td>655801154</td>\n",
       "      <td>Demais</td>\n",
       "    </tr>\n",
       "    <tr>\n",
       "      <th>2</th>\n",
       "      <td>4679549</td>\n",
       "      <td>1</td>\n",
       "      <td>5</td>\n",
       "      <td>Matriz</td>\n",
       "      <td>2004-04-09</td>\n",
       "      <td>2001-09-24</td>\n",
       "      <td>Escritório e apoio administrativo</td>\n",
       "      <td>None</td>\n",
       "      <td>TANGUA</td>\n",
       "      <td>83508270.0</td>\n",
       "      <td>PR</td>\n",
       "      <td>7407</td>\n",
       "      <td>MERANO GASTRONOMIA BORGUEZAM LTDA</td>\n",
       "      <td>40000</td>\n",
       "      <td>Micro empresa</td>\n",
       "    </tr>\n",
       "    <tr>\n",
       "      <th>3</th>\n",
       "      <td>4718504</td>\n",
       "      <td>1</td>\n",
       "      <td>0</td>\n",
       "      <td>Matriz</td>\n",
       "      <td>2005-11-03</td>\n",
       "      <td>2001-10-09</td>\n",
       "      <td>Locação de automóveis sem condutor</td>\n",
       "      <td>7719599,0230600,7490104</td>\n",
       "      <td>PARQUE CAMPOLIM</td>\n",
       "      <td>18048100.0</td>\n",
       "      <td>SP</td>\n",
       "      <td>7145</td>\n",
       "      <td>RBM RAMIRES LOCADORA LTDA</td>\n",
       "      <td>50000</td>\n",
       "      <td>Demais</td>\n",
       "    </tr>\n",
       "  </tbody>\n",
       "</table>\n",
       "</div>"
      ],
      "text/plain": [
       "   cnpj_basico  cnpj_ordem  cnpj_dv identificador_matriz_filial  \\\n",
       "0      7756651          33       32                      Filial   \n",
       "1      7756651          42       23                      Filial   \n",
       "2      4679549           1        5                      Matriz   \n",
       "3      4718504           1        0                      Matriz   \n",
       "\n",
       "  data_situacao_cadastral data_de_inicio_atividade  \\\n",
       "0              2022-01-12               2022-01-12   \n",
       "1              2022-02-16               2022-02-16   \n",
       "2              2004-04-09               2001-09-24   \n",
       "3              2005-11-03               2001-10-09   \n",
       "\n",
       "                cnae_fiscal_principal   cnae_fiscal_secundaria  \\\n",
       "0                 Provedores de redes          6110803,6319400   \n",
       "1                 Provedores de redes          4751201,6204000   \n",
       "2   Escritório e apoio administrativo                     None   \n",
       "3  Locação de automóveis sem condutor  7719599,0230600,7490104   \n",
       "\n",
       "            bairro         cep  uf  municipio  \\\n",
       "0           CENTRO  79002190.0  MS       9051   \n",
       "1  SETOR COMERCIAL  78550258.0  MT       8985   \n",
       "2           TANGUA  83508270.0  PR       7407   \n",
       "3  PARQUE CAMPOLIM  18048100.0  SP       7145   \n",
       "\n",
       "                                     razao_social  capital_social  \\\n",
       "0  BRASIL TECPAR SERVICOS DE TELECOMUNICACOES S.A       655801154   \n",
       "1  BRASIL TECPAR SERVICOS DE TELECOMUNICACOES S.A       655801154   \n",
       "2               MERANO GASTRONOMIA BORGUEZAM LTDA           40000   \n",
       "3                       RBM RAMIRES LOCADORA LTDA           50000   \n",
       "\n",
       "   porte_empresa  \n",
       "0         Demais  \n",
       "1         Demais  \n",
       "2  Micro empresa  \n",
       "3         Demais  "
      ]
     },
     "execution_count": 160,
     "metadata": {},
     "output_type": "execute_result"
    }
   ],
   "source": [
    "df_cnpj.head(4)"
   ]
  },
  {
   "cell_type": "markdown",
   "metadata": {},
   "source": [
    "## Dados dos Clientes"
   ]
  },
  {
   "cell_type": "code",
   "execution_count": 161,
   "metadata": {},
   "outputs": [
    {
     "name": "stdout",
     "output_type": "stream",
     "text": [
      "<class 'pandas.core.frame.DataFrame'>\n",
      "RangeIndex: 37 entries, 0 to 36\n",
      "Data columns (total 50 columns):\n",
      " #   Column                                Non-Null Count  Dtype  \n",
      "---  ------                                --------------  -----  \n",
      " 0   Cliente anonimizado                   37 non-null     object \n",
      " 1   Tipo de venda                         34 non-null     object \n",
      " 2   Região                                37 non-null     object \n",
      " 3   Atividade Principal                   33 non-null     object \n",
      " 4   Porte                                 37 non-null     object \n",
      " 5   Capital Social                        37 non-null     float64\n",
      " 6   Código e Descrição Natureza Juridica  37 non-null     object \n",
      " 7   CNAE Principal                        37 non-null     object \n",
      " 8   CNAE Secundário                       33 non-null     object \n",
      " 9   Unnamed: 9                            28 non-null     object \n",
      " 10  Unnamed: 10                           23 non-null     object \n",
      " 11  Unnamed: 11                           21 non-null     object \n",
      " 12  Unnamed: 12                           17 non-null     object \n",
      " 13  Unnamed: 13                           14 non-null     object \n",
      " 14  Unnamed: 14                           11 non-null     object \n",
      " 15  Unnamed: 15                           9 non-null      object \n",
      " 16  Unnamed: 16                           8 non-null      object \n",
      " 17  Unnamed: 17                           6 non-null      object \n",
      " 18  Unnamed: 18                           5 non-null      object \n",
      " 19  Unnamed: 19                           5 non-null      object \n",
      " 20  Unnamed: 20                           5 non-null      object \n",
      " 21  Unnamed: 21                           3 non-null      object \n",
      " 22  Unnamed: 22                           3 non-null      object \n",
      " 23  Unnamed: 23                           3 non-null      object \n",
      " 24  Unnamed: 24                           1 non-null      object \n",
      " 25  Unnamed: 25                           1 non-null      object \n",
      " 26  Unnamed: 26                           1 non-null      object \n",
      " 27  Unnamed: 27                           1 non-null      object \n",
      " 28  Unnamed: 28                           1 non-null      object \n",
      " 29  Unnamed: 29                           1 non-null      object \n",
      " 30  Unnamed: 30                           1 non-null      object \n",
      " 31  Unnamed: 31                           1 non-null      object \n",
      " 32  Unnamed: 32                           1 non-null      object \n",
      " 33  Unnamed: 33                           1 non-null      object \n",
      " 34  Unnamed: 34                           1 non-null      object \n",
      " 35  Unnamed: 35                           1 non-null      object \n",
      " 36  Unnamed: 36                           1 non-null      object \n",
      " 37  Unnamed: 37                           1 non-null      object \n",
      " 38  Unnamed: 38                           1 non-null      object \n",
      " 39  Unnamed: 39                           1 non-null      object \n",
      " 40  Unnamed: 40                           1 non-null      object \n",
      " 41  Unnamed: 41                           1 non-null      object \n",
      " 42  Unnamed: 42                           1 non-null      object \n",
      " 43  Unnamed: 43                           1 non-null      object \n",
      " 44  Unnamed: 44                           1 non-null      object \n",
      " 45  Unnamed: 45                           1 non-null      object \n",
      " 46  Unnamed: 46                           1 non-null      object \n",
      " 47  Unnamed: 47                           1 non-null      object \n",
      " 48  Unnamed: 48                           1 non-null      object \n",
      " 49  Unnamed: 49                           1 non-null      object \n",
      "dtypes: float64(1), object(49)\n",
      "memory usage: 14.6+ KB\n"
     ]
    }
   ],
   "source": [
    "df_clientes.info()"
   ]
  },
  {
   "cell_type": "code",
   "execution_count": 162,
   "metadata": {},
   "outputs": [],
   "source": [
    "df_clientes['CNAE Principal'] = df_clientes['CNAE Principal'].str.replace(r'\\D+', '',regex=True)"
   ]
  },
  {
   "cell_type": "code",
   "execution_count": 163,
   "metadata": {},
   "outputs": [],
   "source": [
    "df_clientes['CNAE Principal'] = df_clientes['CNAE Principal'].astype(int)"
   ]
  },
  {
   "cell_type": "code",
   "execution_count": 164,
   "metadata": {},
   "outputs": [],
   "source": [
    "df_clientes = df_clientes.replace({'CNAE Principal':{4321500: 'Instalação e manutenção elétrica',\n",
    "                                                     6461100: 'Holdings financeiras',\n",
    "                                                     4520003: 'Elétrica de veículos automotores',\n",
    "                                                     9499500: 'Outras atividades associativas',\n",
    "                                                     7711000: 'Locação de automóveis sem condutor',\n",
    "                                                     6190699: 'Outras atividades de telecomunicações',\n",
    "                                                     4752100: 'Varejista de telefonia e comunicação',\n",
    "                                                     6202300: 'Programas de computador customizáveis',\n",
    "                                                     6512000: 'Seguros de ramos elementares',\n",
    "                                                     5229099: 'Auxiliares dos transportes terrestres',\n",
    "                                                     7739099: 'Aluguel de máquinas e equipamentos sem operador',\n",
    "                                                     9511800: 'Manutenção de computadores e afins',\n",
    "                                                     6120599: 'Telecomunicações sem fio',\n",
    "                                                     4530703: 'Varejo de peças novas para veículos',\n",
    "                                                     6190601: 'Provedores de redes',\n",
    "                                                     4520007: 'Borracharia',\n",
    "                                                     6209100: 'Serviços em tecnologia da informação',\n",
    "                                                     5229002: 'Serviços de reboque de veículos',\n",
    "                                                     8211300: 'Escritório e apoio administrativo',\n",
    "                                                     8020001: 'Monitoramento de segurança eletrônico'\n",
    "                                                     }\n",
    "                                  }\n",
    "                                 )"
   ]
  },
  {
   "cell_type": "code",
   "execution_count": 165,
   "metadata": {},
   "outputs": [
    {
     "name": "stdout",
     "output_type": "stream",
     "text": [
      "<class 'pandas.core.frame.DataFrame'>\n",
      "RangeIndex: 37 entries, 0 to 36\n",
      "Data columns (total 50 columns):\n",
      " #   Column                                Non-Null Count  Dtype  \n",
      "---  ------                                --------------  -----  \n",
      " 0   Cliente anonimizado                   37 non-null     object \n",
      " 1   Tipo de venda                         34 non-null     object \n",
      " 2   Região                                37 non-null     object \n",
      " 3   Atividade Principal                   33 non-null     object \n",
      " 4   Porte                                 37 non-null     object \n",
      " 5   Capital Social                        37 non-null     float64\n",
      " 6   Código e Descrição Natureza Juridica  37 non-null     object \n",
      " 7   CNAE Principal                        37 non-null     object \n",
      " 8   CNAE Secundário                       33 non-null     object \n",
      " 9   Unnamed: 9                            28 non-null     object \n",
      " 10  Unnamed: 10                           23 non-null     object \n",
      " 11  Unnamed: 11                           21 non-null     object \n",
      " 12  Unnamed: 12                           17 non-null     object \n",
      " 13  Unnamed: 13                           14 non-null     object \n",
      " 14  Unnamed: 14                           11 non-null     object \n",
      " 15  Unnamed: 15                           9 non-null      object \n",
      " 16  Unnamed: 16                           8 non-null      object \n",
      " 17  Unnamed: 17                           6 non-null      object \n",
      " 18  Unnamed: 18                           5 non-null      object \n",
      " 19  Unnamed: 19                           5 non-null      object \n",
      " 20  Unnamed: 20                           5 non-null      object \n",
      " 21  Unnamed: 21                           3 non-null      object \n",
      " 22  Unnamed: 22                           3 non-null      object \n",
      " 23  Unnamed: 23                           3 non-null      object \n",
      " 24  Unnamed: 24                           1 non-null      object \n",
      " 25  Unnamed: 25                           1 non-null      object \n",
      " 26  Unnamed: 26                           1 non-null      object \n",
      " 27  Unnamed: 27                           1 non-null      object \n",
      " 28  Unnamed: 28                           1 non-null      object \n",
      " 29  Unnamed: 29                           1 non-null      object \n",
      " 30  Unnamed: 30                           1 non-null      object \n",
      " 31  Unnamed: 31                           1 non-null      object \n",
      " 32  Unnamed: 32                           1 non-null      object \n",
      " 33  Unnamed: 33                           1 non-null      object \n",
      " 34  Unnamed: 34                           1 non-null      object \n",
      " 35  Unnamed: 35                           1 non-null      object \n",
      " 36  Unnamed: 36                           1 non-null      object \n",
      " 37  Unnamed: 37                           1 non-null      object \n",
      " 38  Unnamed: 38                           1 non-null      object \n",
      " 39  Unnamed: 39                           1 non-null      object \n",
      " 40  Unnamed: 40                           1 non-null      object \n",
      " 41  Unnamed: 41                           1 non-null      object \n",
      " 42  Unnamed: 42                           1 non-null      object \n",
      " 43  Unnamed: 43                           1 non-null      object \n",
      " 44  Unnamed: 44                           1 non-null      object \n",
      " 45  Unnamed: 45                           1 non-null      object \n",
      " 46  Unnamed: 46                           1 non-null      object \n",
      " 47  Unnamed: 47                           1 non-null      object \n",
      " 48  Unnamed: 48                           1 non-null      object \n",
      " 49  Unnamed: 49                           1 non-null      object \n",
      "dtypes: float64(1), object(49)\n",
      "memory usage: 14.6+ KB\n"
     ]
    }
   ],
   "source": [
    "df_clientes.info()"
   ]
  },
  {
   "cell_type": "code",
   "execution_count": 166,
   "metadata": {},
   "outputs": [
    {
     "name": "stdout",
     "output_type": "stream",
     "text": [
      "Aluguel de máquinas e equipamentos sem operador\n",
      "Outras atividades de telecomunicações\n",
      "Outras atividades associativas\n",
      "Seguros de ramos elementares\n",
      "Varejista de telefonia e comunicação\n",
      "Escritório e apoio administrativo\n",
      "Locação de automóveis sem condutor\n",
      "Instalação e manutenção elétrica\n",
      "Provedores de redes\n",
      "Elétrica de veículos automotores\n",
      "Manutenção de computadores e afins\n",
      "Serviços em tecnologia da informação\n",
      "Holdings financeiras\n",
      "Telecomunicações sem fio\n",
      "Serviços de reboque de veículos\n",
      "Monitoramento de segurança eletrônico\n",
      "Auxiliares dos transportes terrestres\n",
      "Varejo de peças novas para veículos\n",
      "Programas de computador customizáveis\n",
      "Borracharia\n",
      "20\n"
     ]
    }
   ],
   "source": [
    "for i in set(df_clientes['CNAE Principal']):\n",
    "    print(i)\n",
    "\n",
    "print(len(set(df_clientes['CNAE Principal'])))"
   ]
  },
  {
   "cell_type": "markdown",
   "metadata": {},
   "source": [
    "# Salvando os Dados"
   ]
  },
  {
   "cell_type": "markdown",
   "metadata": {},
   "source": [
    "Salvando no diretório apropriado sob o nome \"ativos_filtrados_mapeados.csv\""
   ]
  },
  {
   "cell_type": "code",
   "execution_count": 167,
   "metadata": {},
   "outputs": [],
   "source": [
    "save_path = os.path.join('..', 'dataset', 'ativos_filtrados_mapeados.parquet')\n",
    "\n",
    "df_cnpj.to_parquet(save_path)"
   ]
  },
  {
   "cell_type": "code",
   "execution_count": 168,
   "metadata": {},
   "outputs": [],
   "source": [
    "save_path = os.path.join('..', 'dataset', 'clientes_mapeados.parquet')\n",
    "\n",
    "df_clientes['CNAE Principal'] = df_clientes['CNAE Principal'].astype(str)\n",
    "\n",
    "df_clientes.to_parquet(save_path)"
   ]
  }
 ],
 "metadata": {
  "kernelspec": {
   "display_name": "base",
   "language": "python",
   "name": "python3"
  },
  "language_info": {
   "codemirror_mode": {
    "name": "ipython",
    "version": 3
   },
   "file_extension": ".py",
   "mimetype": "text/x-python",
   "name": "python",
   "nbconvert_exporter": "python",
   "pygments_lexer": "ipython3",
   "version": "3.10.9"
  }
 },
 "nbformat": 4,
 "nbformat_minor": 2
}
